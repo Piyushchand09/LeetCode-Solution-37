{
 "cells": [
  {
   "cell_type": "code",
   "execution_count": null,
   "id": "e94d48ca",
   "metadata": {
    "vscode": {
     "languageId": "plaintext"
    }
   },
   "outputs": [],
   "source": [
    "# Remove Nth Node From End of List\n",
    "class Solution:\n",
    "    def removeNthFromEnd(self, head: Optional[ListNode], n: int) -> Optional[ListNode]:\n",
    "        # recursion, when we reach the end None return +1 and up the stack, change nth node\n",
    "        # add sentinel node for removing head node\n",
    "        temp = ListNode(val=0, next=head)\n",
    "\n",
    "        def walk(node):\n",
    "            if not node:\n",
    "                return 0\n",
    "            \n",
    "            x = 1 + walk(node.next)\n",
    "\n",
    "            if x == n+1:\n",
    "                # found the prev_node to our candidate node\n",
    "                node.next = node.next.next # skip intermidiate node\n",
    "            \n",
    "            return x\n",
    "        \n",
    "        t = walk(temp) # run the recursion\n",
    "\n",
    "        return temp.next"
   ]
  }
 ],
 "metadata": {
  "kernelspec": {
   "display_name": "Python 3 (ipykernel)",
   "language": "python",
   "name": "python3"
  },
  "language_info": {
   "codemirror_mode": {
    "name": "ipython",
    "version": 3
   },
   "file_extension": ".py",
   "mimetype": "text/x-python",
   "name": "python",
   "nbconvert_exporter": "python",
   "pygments_lexer": "ipython3",
   "version": "3.12.4"
  }
 },
 "nbformat": 4,
 "nbformat_minor": 5
}
